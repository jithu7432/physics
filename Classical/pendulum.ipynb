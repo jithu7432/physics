{
 "cells": [
  {
   "cell_type": "code",
   "execution_count": 1,
   "id": "4878ee84-2db1-4dca-9dd1-e9626b9efdba",
   "metadata": {},
   "outputs": [],
   "source": [
    "import numpy as np\n",
    "import matplotlib.pyplot as plt\n",
    "import sympy as sp\n",
    "from scipy.integrate import odeint\n",
    "from matplotlib.animation import PillowWriter\n",
    "from mpl_toolkits.mplot3d import Axes3D\n",
    "from matplotlib import style\n",
    "from matplotlib import animation\n",
    "\n",
    "style.use('default')"
   ]
  },
  {
   "cell_type": "code",
   "execution_count": 2,
   "id": "7461ed7b-7dd8-4852-aa64-097084f67b73",
   "metadata": {},
   "outputs": [],
   "source": [
    "t,m,g = sp.symbols('t m g')"
   ]
  },
  {
   "cell_type": "code",
   "execution_count": 3,
   "id": "76e75104-652a-464f-924a-2c2232d88833",
   "metadata": {},
   "outputs": [],
   "source": [
    "th = sp.Function(r'\\theta')(t)"
   ]
  },
  {
   "cell_type": "code",
   "execution_count": 4,
   "id": "d028987b-993b-4cda-a7f8-75fd6093f6e9",
   "metadata": {},
   "outputs": [],
   "source": [
    "th_d  = sp.diff(th,t,1)\n",
    "th_dd = sp.diff(th,t,2)"
   ]
  },
  {
   "cell_type": "code",
   "execution_count": 5,
   "id": "dbf1432e-73c1-45da-bec8-eaeee2a691e8",
   "metadata": {},
   "outputs": [],
   "source": [
    "x = sp.Function('x')(th)\n",
    "y = sp.Function('y')(th)"
   ]
  },
  {
   "cell_type": "code",
   "execution_count": 6,
   "id": "35fa04c6-be77-4c52-95ac-eae8ab0603f1",
   "metadata": {},
   "outputs": [],
   "source": [
    "path = 'parabola'\n",
    "\n",
    "if path == 'parabola':\n",
    "    x = th\n",
    "    y = th**2\n",
    "    x_f = sp.lambdify(th, x)\n",
    "    y_f = sp.lambdify(th, y)    "
   ]
  },
  {
   "cell_type": "markdown",
   "id": "2dd7a700-5740-44c4-8f84-18a6dbfa6cc1",
   "metadata": {},
   "source": [
    "$$\n",
    "T = \\frac{1}{2} m (\\dot{x}^2 + \\dot y ^2)\n",
    "$$"
   ]
  },
  {
   "cell_type": "markdown",
   "id": "d5d9151d-8354-409c-a2f3-71befb9575b8",
   "metadata": {},
   "source": [
    "$$V = m g y$$"
   ]
  },
  {
   "cell_type": "markdown",
   "id": "66d67703-b6f6-4cd4-801d-405c3124a52c",
   "metadata": {},
   "source": [
    "$$L = T-V$$"
   ]
  },
  {
   "cell_type": "code",
   "execution_count": 7,
   "id": "70762b11-76cf-42ce-bfe7-09a241e79ff1",
   "metadata": {},
   "outputs": [],
   "source": [
    "T = 1/2 * m * (sp.diff(x,t,1)**2 + sp.diff(y,t,1)**2 )\n",
    "V = m * g * y"
   ]
  },
  {
   "cell_type": "code",
   "execution_count": 8,
   "id": "315feb28-d20c-4b33-86ba-622cc477ad03",
   "metadata": {},
   "outputs": [],
   "source": [
    "L = T - V"
   ]
  },
  {
   "cell_type": "code",
   "execution_count": 9,
   "id": "f69ca753-3b3c-4f6a-bba4-a5dceddd575b",
   "metadata": {},
   "outputs": [],
   "source": [
    "lag = sp.diff(L,th) - sp.diff(sp.diff(L,th_d),t)"
   ]
  },
  {
   "cell_type": "code",
   "execution_count": 10,
   "id": "36ee8096-546a-4bfd-abff-cfb69745bdf0",
   "metadata": {},
   "outputs": [],
   "source": [
    "lag = lag.simplify()"
   ]
  },
  {
   "cell_type": "code",
   "execution_count": 11,
   "id": "124c536f-20da-4125-8dfb-30c54601a901",
   "metadata": {},
   "outputs": [],
   "source": [
    "d2 = sp.solve(lag,th_dd)[0]\n",
    "d1 = th_d"
   ]
  },
  {
   "cell_type": "code",
   "execution_count": 12,
   "id": "ab64610f-71cf-463d-b905-8606de56eb31",
   "metadata": {},
   "outputs": [],
   "source": [
    "d1_f = sp.lambdify(th_d,d1) #dthetha/dt\n",
    "d2_f = sp.lambdify((g,th,th_d),d2) #domega/dt"
   ]
  },
  {
   "cell_type": "markdown",
   "id": "7138d681-a23c-4da9-af7b-2391bff6ca87",
   "metadata": {},
   "source": [
    "$S = [\\theta,\\omega]$<br>$\\frac{\\partial S}{\\partial t} = [\\frac{\\partial \\theta}{\\partial t},\\frac{\\partial \\omega}{\\partial t}]$"
   ]
  },
  {
   "cell_type": "code",
   "execution_count": 13,
   "id": "59ec2d70-b4c6-49d3-b5e6-a9f34fd31d1e",
   "metadata": {},
   "outputs": [],
   "source": [
    "def dSdt(S,t):\n",
    "    return [d1_f(S[1]),d2_f(g,S[0],S[1])]"
   ]
  },
  {
   "cell_type": "code",
   "execution_count": null,
   "id": "61f66508-95eb-4d89-992b-90045aabd916",
   "metadata": {},
   "outputs": [],
   "source": [
    "t = np.linspace(0,20,1000)\n",
    "g = 9.81\n",
    "val1 = odeint(dSdt,y0=[2,0],t = t)\n",
    "val2 = odeint(dSdt,y0=[3,0],t = t)"
   ]
  },
  {
   "cell_type": "code",
   "execution_count": null,
   "id": "c6d92eaa-5bd7-44e2-a618-64306f946a6a",
   "metadata": {},
   "outputs": [],
   "source": [
    "def getxy(theta):\n",
    "    return [x_f(theta),y_f(theta)]"
   ]
  },
  {
   "cell_type": "code",
   "execution_count": null,
   "id": "4474ce1a-dd21-4e97-aef0-9cbef4733f1c",
   "metadata": {},
   "outputs": [],
   "source": [
    "x1, y1 = getxy(val1.T[0])\n",
    "x2, y2 = getxy(val2.T[0])"
   ]
  },
  {
   "cell_type": "code",
   "execution_count": null,
   "id": "43c31777-58f1-4ef9-b0be-457bd1f7cbed",
   "metadata": {},
   "outputs": [],
   "source": [
    "def animate(i):\n",
    "    l1.set_data([x1[i]],[y1[i]])\n",
    "    l2.set_data([x2[i]],[y2[i]])\n",
    "    \n",
    "    \n",
    "fig, ax = plt.subplots(1,1)\n",
    "ax.grid()\n",
    "l1, = plt.plot([],[],'ro')\n",
    "l2, = plt.plot([],[],'ro')\n",
    "ax.set_ylim(-1,16)\n",
    "ax.set_xlim(-4,4)\n",
    "ani = animation.FuncAnimation(fig, animate, frames=1000, interval = 50)\n",
    "ani.save('pendulum.gif',writer='pillow',fps=50)"
   ]
  },
  {
   "cell_type": "code",
   "execution_count": null,
   "id": "91a46bfd-1b84-448f-b937-c87080d12d75",
   "metadata": {},
   "outputs": [],
   "source": []
  }
 ],
 "metadata": {
  "kernelspec": {
   "display_name": "Python 3",
   "language": "python",
   "name": "python3"
  },
  "language_info": {
   "codemirror_mode": {
    "name": "ipython",
    "version": 3
   },
   "file_extension": ".py",
   "mimetype": "text/x-python",
   "name": "python",
   "nbconvert_exporter": "python",
   "pygments_lexer": "ipython3",
   "version": "3.9.5"
  }
 },
 "nbformat": 4,
 "nbformat_minor": 5
}
